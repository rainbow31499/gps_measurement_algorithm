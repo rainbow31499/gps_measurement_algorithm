{
 "cells": [
  {
   "cell_type": "code",
   "execution_count": 2,
   "metadata": {},
   "outputs": [],
   "source": [
    "import numpy as np\n",
    "import scipy.linalg as la\n",
    "import pandas as pd\n",
    "import random\n",
    "import matplotlib.pyplot as plt\n",
    "import itertools"
   ]
  },
  {
   "attachments": {},
   "cell_type": "markdown",
   "metadata": {},
   "source": [
    "In this notebook we will explore the problem of locating an unknown point based on the known distances from known points. The problem will involve a lot of triangle geometry. Using the known distances, it is possible to derive certain properties of the point. In which case, we want to find the intersection of spheres. We know, for example, that the intersection of two spheres in 3-dimensional space with different centers is either a circle or empty, and the intersection of a circle with a sphere is either at most two different points or empty. This notion can be generalized into multidimensional space.\n",
    "\n",
    "To find out where the circle is, we need to use triangle geometry. This leads us to the first question: If we have two points a known distance apart, and the third point is a known distance away from each of the two points, where is the third point? In 2D space there are two such points. Since isometric transformations do not change the nature of the problem (except for scaling), it suffices to assume the two points lie on the x-axis, which are $(0,0)$ and $(d,0)$.\n",
    "\n",
    "By solving this question, we will also know the projection and rejection of the third point onto the vector connecting the other two points. The projection is basically the distance of the third point from the first parallel to the line connecting to the first two points. The rejection is the perpendicular distance from the line. However, there are problems that will occur if we don't choose our parameters properly. This will only work when the three distances are compatible with the triangle inequality. Otherwise, one way to solve the problem is to scale the two measured sides proportionally so that they \"just\" satisfy the triangle inequality. The rationale for this will be explained later.\n",
    "\n",
    "The tools we will use to find the projection and rejection of the third point include Heron's formula and the cosine rule."
   ]
  },
  {
   "cell_type": "code",
   "execution_count": 3,
   "metadata": {},
   "outputs": [],
   "source": [
    "def find_adjacent_point_position(d1, d2, d3):\n",
    "    # d1 is the length of the base, d2 is the length of the left side and d3 is the length of the remaining right side\n",
    "    if (d1 <= d2 + d3) and (d2 <= d1 + d3) and (d3 <= d1 + d2):\n",
    "        sp = (d1 + d2 + d3) / 2\n",
    "        area = np.sqrt(sp * (sp-d1) * (sp-d2) * (sp-d3)) # Find the area using Heron's formula\n",
    "\n",
    "        rej = area / d1 * 2 # Simply by the 1/2 base * height formula\n",
    "\n",
    "        proj = (d1**2 + d2**2 - d3**2) / (2*d1) # Using the cosine rule, then applying the cosine to the second edge d2\n",
    "        \n",
    "    else:\n",
    "        if d1 > d2 + d3:\n",
    "            rej = 0\n",
    "            proj = d2 / (d2+d3) * d1\n",
    "        else:\n",
    "            rej = 0\n",
    "            proj = d2 / (d2-d3) * d1\n",
    "\n",
    "    return np.array([proj, rej])"
   ]
  },
  {
   "cell_type": "code",
   "execution_count": 4,
   "metadata": {},
   "outputs": [],
   "source": [
    "for i in range(100):\n",
    "    # Complete 100 random tests to make sure the algorithm works well, assuming triangle inequality holds\n",
    "    triangle_inequality = False\n",
    "    while triangle_inequality == False:\n",
    "        vertices = np.random.rand(3) * 10\n",
    "        if (vertices[0] <= vertices[1] + vertices[2]) and (vertices[1] <= vertices[0] + vertices[2]) and (vertices[2] <= vertices[0] + vertices[1]):\n",
    "            triangle_inequality = True\n",
    "\n",
    "    proj, rej = find_adjacent_point_position(*vertices)\n",
    "\n",
    "    try:\n",
    "        assert(abs(vertices[1] - np.sqrt(proj**2 + rej**2)) <= 10**-12)\n",
    "        assert(abs(vertices[2] - np.sqrt((vertices[0] - proj)**2 + rej**2)) <= 10**-12)\n",
    "    except:\n",
    "        print('Test {} failed.'.format(i+1))"
   ]
  },
  {
   "attachments": {},
   "cell_type": "markdown",
   "metadata": {},
   "source": [
    "If you see no messages above, this means the test is working as intended. The point being found based on the projection and rejection satisfies the point and distance requirements. However, we are only testing this for the case of triangle inequality being satisfied.\n",
    "\n",
    "Next, we want to generalize this to having the two known points be at any set of coordinates. Since the projection and rejection can be calculated, in 2 dimensions this means we get two points. In 3 dimensions, we get a circle centered on the line and perpendicular to the line as the set of possible points based on the information.\n",
    "\n",
    "Later, we will investigate a different algorithm which uses the intersection of planes derived from the properties of the possible point. The method can be generalized to any number of dimensions."
   ]
  },
  {
   "cell_type": "code",
   "execution_count": 5,
   "metadata": {},
   "outputs": [],
   "source": [
    "def triangulate(p1, d1, p2, d2):\n",
    "    dist = np.sqrt(sum((p2-p1)**2))\n",
    "    proj, rej = find_adjacent_point_position(dist, d1, d2)\n",
    "    perp = lambda x: np.array([x[1], -x[0]])\n",
    "    q1 = p1 + proj * (p2-p1) / dist + rej * perp(p2-p1) / dist\n",
    "    q2 = p1 + proj * (p2-p1) / dist - rej * perp(p2-p1) / dist\n",
    "\n",
    "    return q1,q2\n",
    "\n",
    "for i in range(100):\n",
    "    triangle_inequality = False\n",
    "    while triangle_inequality == False:\n",
    "        p1 = np.random.rand(2) * 10\n",
    "        p2 = np.random.rand(2) * 10\n",
    "        d1 = np.random.rand() * 10\n",
    "        d2 = np.random.rand() * 10\n",
    "\n",
    "        dist = np.sqrt(sum((p1-p2)**2))\n",
    "        if (dist <= d1 + d2) and (d1 <= dist + d2) and (d2 <= dist + d1):\n",
    "            triangle_inequality = True\n",
    "\n",
    "    q1, q2 = triangulate(p1,d1,p2,d2)\n",
    "\n",
    "    try:\n",
    "        assert(abs(np.sqrt(sum((q1 - p1)**2)) - d1) <= 10**-12)\n",
    "        assert(abs(np.sqrt(sum((q2 - p1)**2)) - d1) <= 10**-12)\n",
    "        assert(abs(np.sqrt(sum((q1 - p2)**2)) - d2) <= 10**-12)\n",
    "        assert(abs(np.sqrt(sum((q2 - p2)**2)) - d2) <= 10**-12)\n",
    "    except:\n",
    "        print('Test {} failed.'.format(i+1))"
   ]
  },
  {
   "cell_type": "code",
   "execution_count": 6,
   "metadata": {},
   "outputs": [],
   "source": [
    "def measure_satellite_distances(satellite_positions, point, error=0.01):\n",
    "    no_of_satellites = np.shape(satellite_positions)[0]\n",
    "\n",
    "    # Measure the distance of each satellite to the point\n",
    "    satellite_distances = np.sqrt((point[0] - satellite_positions[:,0])**2 + (point[1] - satellite_positions[:,1])**2)\n",
    "\n",
    "    # Add some noise to the distance measurements, with a normal standard error of (default: 1%, 0.01)\n",
    "    satellite_distances += np.random.standard_normal(no_of_satellites) * satellite_distances * error\n",
    "\n",
    "    return satellite_distances"
   ]
  },
  {
   "attachments": {},
   "cell_type": "markdown",
   "metadata": {},
   "source": [
    "Now we apply this algorithm to the problem of measuring points in 2D space. After measuring distances from two of the satellites to the unknown point with a small normal (Gaussian) error, we will use each set of two satellites to find a point based on the measurements. A third satellite will also be used to disambiguate which of the two points is the correct point by choosing the point whose distance is closer to the measurement. This will, however, create problems if the three satellites are collinear."
   ]
  },
  {
   "cell_type": "code",
   "execution_count": 7,
   "metadata": {},
   "outputs": [],
   "source": [
    "def measure_point_from_satellites(satellite_positions, satellite_distances, weighting_func=None, plot_results=False):\n",
    "    '''This function takes in a set of satellite positions and the distances they measure to the point, then estimates a point based on the triangulation algorithm with a weighting function, default evenly weighted. Results may be plotted if desired'''\n",
    "    no_of_satellites = np.shape(satellite_positions)[0]\n",
    "\n",
    "    measured_points = np.empty((0,7))\n",
    "    rejected_points = np.empty((0,2))\n",
    "\n",
    "    # To measure the point, pick each possible pair of two satellites, and use this and the triangulation algorithm to find two possible points for the pair. There will be nC2 measurements taken, where n is the number of satellites that are measuring. (Note: This only works in 2 dimensions)\n",
    "    for i in range(no_of_satellites):\n",
    "        for j in range(i+1,no_of_satellites):\n",
    "            satellite_pos_1 = satellite_positions[i]\n",
    "            satellite_dis_1 = satellite_distances[i]\n",
    "            satellite_pos_2 = satellite_positions[j]\n",
    "            satellite_dis_2 = satellite_distances[j]\n",
    "\n",
    "            # Choose a random third satellite to find which of two points matches the measured distance to this third satellite more closely\n",
    "            k = i\n",
    "            while k in [i,j]:\n",
    "                k = np.random.randint(no_of_satellites)\n",
    "            satellite_pos_3 = satellite_positions[k]\n",
    "            satellite_dis_3 = satellite_distances[k]\n",
    "            \n",
    "            measured_point_1 = triangulate(satellite_pos_1, satellite_dis_1, satellite_pos_2, satellite_dis_2)[0]\n",
    "            measured_point_2 = triangulate(satellite_pos_1, satellite_dis_1, satellite_pos_2, satellite_dis_2)[1]\n",
    "\n",
    "            measured_dist_1 = np.sqrt(sum((measured_point_1 - satellite_pos_3)**2))\n",
    "            measured_dist_2 = np.sqrt(sum((measured_point_2 - satellite_pos_3)**2))\n",
    "\n",
    "            if abs(measured_dist_1 - satellite_dis_3) < abs(measured_dist_2 - satellite_dis_3):\n",
    "                measured_point = measured_point_1\n",
    "                rejected_point = measured_point_2\n",
    "            else:\n",
    "                measured_point = measured_point_2\n",
    "                rejected_point = measured_point_1\n",
    "\n",
    "            # Each row of the table contains the information in order: Satellite 1 used, Satellite 2 used, Satellite 3 used, Point measured (x), Point measured (y), Satellite 1 distance, Satellite 2 distance\n",
    "            measured_data = np.array([i, j, k, measured_point[0], measured_point[1], satellite_dis_1, satellite_dis_2])\n",
    "            \n",
    "            measured_points = np.append(measured_points, [measured_data], axis=0)\n",
    "            rejected_points = np.append(rejected_points, [rejected_point], axis=0)\n",
    "\n",
    "    if weighting_func == None:\n",
    "        weighting_func = lambda measured_points: np.ones(np.shape(measured_points)[0])\n",
    "\n",
    "    # Calculate the \"center of mass\" of the measurements, the average position of all the measurements, based on the specified weighting function. Weighting function, if None, will default to even weighting\n",
    "    center_of_mass = np.average(measured_points[:, 3:5], axis=0, weights=weighting_func(measured_points))\n",
    "\n",
    "    # (optional) Plot the results\n",
    "\n",
    "    if plot_results == True:\n",
    "        fig, ax = plt.subplots()\n",
    "\n",
    "        ax.set_aspect('equal')\n",
    "        ax.set_xlim([-0.1,1.1])\n",
    "        ax.set_ylim([-0.1,1.1])\n",
    "        ax.scatter(satellite_positions[:,0], satellite_positions[:,1], c='k', s=30)\n",
    "        ax.scatter(measured_points[:,3], measured_points[:,4], c='b', s=5)\n",
    "        ax.scatter(center_of_mass[0], center_of_mass[1], c='r', s=10)\n",
    "\n",
    "        plt.show()\n",
    "\n",
    "    return center_of_mass"
   ]
  },
  {
   "attachments": {},
   "cell_type": "markdown",
   "metadata": {},
   "source": [
    "Now we run an experiment with the algorithm. Specify a random point to measure within the 2D unit square, then test the measurement against a weighting scheme. We will first specify four different schemes, which generally follow a pattern based on the distance measured. Measurements derived from longer distances will be given less weight due to the fact that these measurements have more room for uncertainty. First we run the experiment once:"
   ]
  },
  {
   "cell_type": "code",
   "execution_count": 8,
   "metadata": {},
   "outputs": [
    {
     "name": "stdout",
     "output_type": "stream",
     "text": [
      "Satellite positions:\n",
      "[[0 0]\n",
      " [0 1]\n",
      " [1 0]\n",
      " [1 1]]\n",
      "Measured distances:\n",
      "[0.71620622 0.32162088 1.11858595 0.91348508]\n",
      "Algorithm 1 results:\n",
      "Measured point: [0.13280074 0.70594933]\n",
      "Error: 0.00743515639904619\n",
      "Algorithm 2 results:\n",
      "Measured point: [0.13206732 0.70580107]\n",
      "Error: 0.007820347745881199\n",
      "Algorithm 3 results:\n",
      "Measured point: [0.13200958 0.70580241]\n",
      "Error: 0.007840855257594887\n",
      "Algorithm 4 results:\n",
      "Measured point: [0.13203089 0.7060316 ]\n",
      "Error: 0.00762105446387878\n"
     ]
    }
   ],
   "source": [
    "# Specify the positions of the satellites\n",
    "satellite_positions = np.array([[0,0],[0,1],[1,0],[1,1]])\n",
    "\n",
    "# Pick a random point in the space to measure\n",
    "point_to_measure = np.random.rand(2)\n",
    "\n",
    "satellite_distances = measure_satellite_distances(satellite_positions, point_to_measure)\n",
    "\n",
    "print('Satellite positions:')\n",
    "print(satellite_positions)\n",
    "print('Measured distances:')\n",
    "print(satellite_distances)\n",
    "\n",
    "# Calculate the \"center of mass\" of the measurements, the average position of all the measurements\n",
    "# Algorithm 1: Unweighted, that is each measurement is taken equally.\n",
    "center_of_mass = measure_point_from_satellites(satellite_positions, satellite_distances)\n",
    "error = np.sqrt(sum((point_to_measure - center_of_mass)**2))\n",
    "\n",
    "print('Algorithm 1 results:')\n",
    "print('Measured point:', center_of_mass)\n",
    "print('Error:', error)\n",
    "\n",
    "# Algorithm 2: Exponentially weighted, with the function decreasing exponentially by the squared sum of the two satellite distances. Rate = 1\n",
    "weighting_func_2 = lambda measured_points: np.exp(-1 * (measured_points[:,5]**2 + measured_points[:,6]**2))\n",
    "center_of_mass = measure_point_from_satellites(satellite_positions, satellite_distances, weighting_func_2)\n",
    "error = np.sqrt(sum((point_to_measure - center_of_mass)**2))\n",
    "\n",
    "print('Algorithm 2 results:')\n",
    "print('Measured point:', center_of_mass)\n",
    "print('Error:', error)\n",
    "\n",
    "# Algorithm 3: Weighted by the formula 1/(sum of distances squared)\n",
    "weighting_func_3 = lambda measured_points: 1/(measured_points[:,5]**2 + measured_points[:,6]**2)\n",
    "center_of_mass = measure_point_from_satellites(satellite_positions, satellite_distances, weighting_func_3)\n",
    "error = np.sqrt(sum((point_to_measure - center_of_mass)**2))\n",
    "\n",
    "print('Algorithm 3 results:')\n",
    "print('Measured point:', center_of_mass)\n",
    "print('Error:', error)\n",
    "\n",
    "# Algorithm 4: Weighted by the formula 1/(product of distances)\n",
    "weighting_func_4 = lambda measured_points: 1/(measured_points[:,5] * measured_points[:,6])\n",
    "center_of_mass = measure_point_from_satellites(satellite_positions, satellite_distances, weighting_func_4)\n",
    "error = np.sqrt(sum((point_to_measure - center_of_mass)**2))\n",
    "\n",
    "print('Algorithm 4 results:')\n",
    "print('Measured point:', center_of_mass)\n",
    "print('Error:', error)"
   ]
  },
  {
   "cell_type": "code",
   "execution_count": 9,
   "metadata": {},
   "outputs": [
    {
     "name": "stdout",
     "output_type": "stream",
     "text": [
      "Average error for Algorithm 1: 0.00904327392549068\n",
      "Average error for Algorithm 2: 0.009156613418127823\n",
      "Average error for Algorithm 3: 0.008294088243584841\n",
      "Average error for Algorithm 4: 0.009013360398945925\n"
     ]
    }
   ],
   "source": [
    "# Now run an experiment testing how accurate is each weighting algorithm, that is, which weighting scheme is the best?\n",
    "\n",
    "measurements = np.empty((0,2))\n",
    "errors = np.empty(0)\n",
    "for i in range(100):\n",
    "    # Pick a random point in the space to measure\n",
    "    point_to_measure = np.random.rand(2)\n",
    "\n",
    "    satellite_distances = measure_satellite_distances(satellite_positions, point_to_measure)\n",
    "\n",
    "    center_of_mass = measure_point_from_satellites(satellite_positions, satellite_distances)\n",
    "    error = np.sqrt(sum((point_to_measure - center_of_mass)**2))\n",
    "\n",
    "    measurements = np.append(measurements, center_of_mass)\n",
    "    errors = np.append(errors, error)\n",
    "\n",
    "print('Average error for Algorithm 1:', np.average(errors))\n",
    "\n",
    "measurements = np.empty((0,2))\n",
    "errors = np.empty(0)\n",
    "for i in range(100):\n",
    "    # Pick a random point in the space to measure\n",
    "    point_to_measure = np.random.rand(2)\n",
    "\n",
    "    satellite_distances = measure_satellite_distances(satellite_positions, point_to_measure)\n",
    "\n",
    "    center_of_mass = measure_point_from_satellites(satellite_positions, satellite_distances, weighting_func_2)\n",
    "    error = np.sqrt(sum((point_to_measure - center_of_mass)**2))\n",
    "\n",
    "    measurements = np.append(measurements, center_of_mass)\n",
    "    errors = np.append(errors, error)\n",
    "\n",
    "print('Average error for Algorithm 2:', np.average(errors))\n",
    "\n",
    "measurements = np.empty((0,2))\n",
    "errors = np.empty(0)\n",
    "for i in range(100):\n",
    "    # Pick a random point in the space to measure\n",
    "    point_to_measure = np.random.rand(2)\n",
    "\n",
    "    satellite_distances = measure_satellite_distances(satellite_positions, point_to_measure)\n",
    "\n",
    "    center_of_mass = measure_point_from_satellites(satellite_positions, satellite_distances, weighting_func_3)\n",
    "    error = np.sqrt(sum((point_to_measure - center_of_mass)**2))\n",
    "\n",
    "    measurements = np.append(measurements, center_of_mass)\n",
    "    errors = np.append(errors, error)\n",
    "\n",
    "print('Average error for Algorithm 3:', np.average(errors))\n",
    "\n",
    "measurements = np.empty((0,2))\n",
    "errors = np.empty(0)\n",
    "for i in range(100):\n",
    "    # Pick a random point in the space to measure\n",
    "    point_to_measure = np.random.rand(2)\n",
    "\n",
    "    satellite_distances = measure_satellite_distances(satellite_positions, point_to_measure)\n",
    "\n",
    "    center_of_mass = measure_point_from_satellites(satellite_positions, satellite_distances, weighting_func_4)\n",
    "    error = np.sqrt(sum((point_to_measure - center_of_mass)**2))\n",
    "\n",
    "    measurements = np.append(measurements, center_of_mass)\n",
    "    errors = np.append(errors, error)\n",
    "\n",
    "print('Average error for Algorithm 4:', np.average(errors))"
   ]
  },
  {
   "attachments": {},
   "cell_type": "markdown",
   "metadata": {},
   "source": [
    "Based on the results of the experiment and running it several times, it is inconclusive which weighting scheme produces the most accurate results. In fact many different experiments shows that any of these weighting schemes is the winner. This means at least according to what we can find from this experiment, any weighting algorithm could be the winner since there's no significant difference between each of the four. We might as well just use the default equal-weighted average."
   ]
  },
  {
   "attachments": {},
   "cell_type": "markdown",
   "metadata": {},
   "source": [
    "Now we move on to creating a new algorithm for measuring a point in any number of dimensions. In $n$-dimensional space, we know that $n$ planes of dimension $n-1$ whose normal vectors are not coplanar will intersect at exactly one point. How do we find the plane? From the triangulation algorithm before, we only need to use the projection, which is the distance of the third point parallel to the vector conncting the first two points. Given this projection, this determines a $n-1$-dimensional plane normal to the base vector. Any plane normal to a vector $(a_1,...,a_n)$ will have the equation $a_1x_1+a_2x_2+...+a_nx_n=b$, and $b$ is a constant determined by the location of the plane.\n",
    "\n",
    "Thus, we use the triangulation algorithm to find $n$ planes based on the projections. We pick one satellite as the point from which we will measure the projections onto $n$ vectors, which will require $n$ other points. From exactly $n+1$ points which are not coplanar, we can determine the intersection of all $n$ planes. If the $n$ planes have equations $a_{11}x_1+a_{12}x_2+...+a_{1n}x_n=b_1, a_{21}x_1+a_{22}x_2+...+a_{2n}x_n=b_2, ..., a_{n1}x_1+a_{n2}x_2+...+a_{nn}x_n=b_n$, this is equal to solving the matrix equation $A\\textbf{x}=\\textbf{b}$ where $A$ is the matrix of entries $(a_{ij})$ and $\\textbf{b}=(b_1,b_2,...,b_n)$. This requires that $A$ be invertible, which is the condition derived from the fact that the points are not coplanar. To measure whether $A$ is invertible, we can use the determinant of the unit vectors. We shall use this determinant rather than that of $A$ itself because it is not affected by scaling, but is rather a measure of how coplanar the points are, with 1 being an orthogonal basis and 0 being coplanar. The rationale behind this derives from the fact that determinant is the volume of the parallelepiped spanned by the vectors. Then we pick another set of $n+1$ satellites for which to repeat the algorithm.\n",
    "\n",
    "First we shall build a function to implement this method by picking $n+1$ points of dimension $n$ and using measured distances to an unknown point. However, the algorithm will reject any measurement whose determinant of unit vectors is too small in absolute value, equivalently saying that the points lie too closely in one plane, and so either the equation is unsolvable or deviates too much."
   ]
  },
  {
   "cell_type": "code",
   "execution_count": 10,
   "metadata": {},
   "outputs": [],
   "source": [
    "def measure_point_from_satellites_n_dims(satellite_positions, satellite_distances):\n",
    "    # Restriction: first argument must be a (n+1) x n array and second argument must be a n+1 length array. Also, satellite positions must not be too coplanar\n",
    "    shape = np.shape(satellite_positions)\n",
    "    if shape[0] == shape[1] + 1 and shape[0] == np.shape(satellite_distances)[0]:\n",
    "        dimension = shape[1]\n",
    "    else:\n",
    "        raise ValueError('Invalid dimensions of arguments.')\n",
    "    \n",
    "    A_matrix = np.empty((0,dimension))\n",
    "    b_vector = np.empty(0)\n",
    "    \n",
    "    for i in range(dimension):\n",
    "        p1 = satellite_positions[0]\n",
    "        d1 = satellite_distances[0]\n",
    "        p2 = satellite_positions[i+1]\n",
    "        d2 = satellite_distances[i+1]\n",
    "\n",
    "        dist = np.sqrt(sum((p1-p2)**2))\n",
    "\n",
    "        proj, rej = find_adjacent_point_position(dist, d1, d2)\n",
    "\n",
    "        # Plane equation is of the form (p2-p1).x = b, now we need to determine b based on the projection. To find x just add the projection length of the vector p2-p1 to the point p1\n",
    "\n",
    "        plane_intercept = p1 + (p2-p1) / np.sqrt(sum((p2-p1)**2)) * proj\n",
    "\n",
    "        b = sum((p2-p1) * plane_intercept)\n",
    "\n",
    "        A_matrix = np.append(A_matrix, [p2-p1], axis=0)\n",
    "        b_vector = np.append(b_vector, b)\n",
    "\n",
    "    # To find the intersection of all planes, this is equivalent to solving the matrix equation Ax=b, which is invertible based on the conditions. However, if the determinant is too small then reject the algorithm; to account for scaling we will use unit row vectors\n",
    "\n",
    "    A_unit = np.empty((0,dimension))\n",
    "    for row in A_matrix:\n",
    "        unit_row = row / np.sqrt(sum(row**2))\n",
    "        A_unit = np.append(A_unit, [unit_row], axis=0)\n",
    "\n",
    "    if np.absolute(la.det(A_unit)) <= 10**-12:\n",
    "        raise ValueError('Satellites are too coplanar')\n",
    "    else:\n",
    "        x = la.solve(A_matrix, b_vector)\n",
    "        return x"
   ]
  },
  {
   "cell_type": "code",
   "execution_count": 11,
   "metadata": {},
   "outputs": [],
   "source": [
    "for i in range(100):\n",
    "    # Complete 100 random tests in random dimensions from 2 to 6, involving satellites and the point to measure within the unit cube (0<=x_i<=1)\n",
    "    dimension = np.random.randint(2,7)\n",
    "    satellite_positions = np.random.rand(dimension+1, dimension)\n",
    "    point_to_measure = np.random.rand(dimension)\n",
    "\n",
    "    satellite_distances = np.empty(0)\n",
    "    for position in satellite_positions:\n",
    "        distance = np.sqrt(sum((position - point_to_measure)**2))\n",
    "        satellite_distances = np.append(satellite_distances, distance)\n",
    "\n",
    "    try:\n",
    "        measured_point = measure_point_from_satellites_n_dims(satellite_positions, satellite_distances)\n",
    "        error = np.sqrt(sum((measured_point - point_to_measure)**2))\n",
    "\n",
    "        if error > 10**-10:\n",
    "            print('Test {} failed.'.format(i+1))\n",
    "    except:\n",
    "        print('Test {} failed due to error.'.format(i+1))\n",
    "    #print('Point to measure: {}'.format(point_to_measure))\n",
    "    #print('Point measured: {}'.format(measured_point))\n",
    "    #print('Error: {}'.format(error))"
   ]
  },
  {
   "attachments": {},
   "cell_type": "markdown",
   "metadata": {},
   "source": [
    "Turns out the implemented algorithm works perfectly in any dimension from 2 to 6. That means so long as the distances are measured accurately, the point produced by this algorithm agrees with the true point almost exactly (within an error of $10^{-10}$). I've also tried the same test in larger number of dimensions, but at higher dimensions the algorithm is more likely to fail due to the likelihood of the determinant being too small. (I've made the algorithm to be rejected if the determinant of the parallepiped subtended by the unit vectors $<10^{-12}$.) At lower dimensions, practically no such error occurs. Now we shall perform the same experiment in 2D as before, but with the new algorithm."
   ]
  },
  {
   "attachments": {},
   "cell_type": "markdown",
   "metadata": {},
   "source": [
    "Next, we need to write another function which takes several satellites and measures the unknown point in $n$ dimensions with any number of at least $n+1$ satellites. This involves selecting $n+1$ satellites to implement the above algorithm."
   ]
  },
  {
   "cell_type": "code",
   "execution_count": 12,
   "metadata": {},
   "outputs": [],
   "source": [
    "def measure_point_from_satellites_n_dims_2(satellite_positions, satellite_distances):\n",
    "    shape = np.shape(satellite_positions)\n",
    "    if shape[0] > shape[1] and shape[0] == np.shape(satellite_distances)[0]:\n",
    "        dimension = shape[1]\n",
    "        number_of_satellites = shape[0]\n",
    "    else:\n",
    "        raise ValueError('Invalid dimensions of arguments. Number of satellites must be at least one more than given dimension')\n",
    "    \n",
    "    selected_satellites = np.random.choice(number_of_satellites, dimension+1, replace=False)\n",
    "\n",
    "    selected_satellite_positions = satellite_positions[selected_satellites]\n",
    "    selected_satellite_distances = satellite_distances[selected_satellites]\n",
    "\n",
    "    measured_point = measure_point_from_satellites_n_dims(selected_satellite_positions, selected_satellite_distances)\n",
    "\n",
    "    return measured_point"
   ]
  },
  {
   "attachments": {},
   "cell_type": "markdown",
   "metadata": {},
   "source": [
    "Now we run the same experiment as before to measure a point in 2D."
   ]
  },
  {
   "cell_type": "code",
   "execution_count": 13,
   "metadata": {},
   "outputs": [
    {
     "name": "stdout",
     "output_type": "stream",
     "text": [
      "Satellite positions:\n",
      "[[0 0]\n",
      " [0 1]\n",
      " [1 0]\n",
      " [1 1]]\n",
      "Measured distances:\n",
      "[0.43828396 0.61891402 0.95365297 1.02897195]\n",
      "Point to measure: [0.15007774 0.41097351]\n",
      "Measured point: [0.14131942 0.42533536]\n",
      "Error: 0.01682173716244628\n"
     ]
    }
   ],
   "source": [
    "# Specify the positions of the satellites\n",
    "satellite_positions = np.array([[0,0],[0,1],[1,0],[1,1]])\n",
    "\n",
    "# Pick a random point in the space to measure\n",
    "point_to_measure = np.random.rand(2)\n",
    "\n",
    "satellite_distances = measure_satellite_distances(satellite_positions, point_to_measure)\n",
    "\n",
    "print('Satellite positions:')\n",
    "print(satellite_positions)\n",
    "print('Measured distances:')\n",
    "print(satellite_distances)\n",
    "\n",
    "measured_point = measure_point_from_satellites_n_dims_2(satellite_positions, satellite_distances)\n",
    "\n",
    "error = np.sqrt(sum((measured_point - point_to_measure)**2))\n",
    "\n",
    "print('Point to measure: {}'.format(point_to_measure))\n",
    "print('Measured point: {}'.format(measured_point))\n",
    "print('Error: {}'.format(error))"
   ]
  },
  {
   "attachments": {},
   "cell_type": "markdown",
   "metadata": {},
   "source": [
    "Our previous algorithm included the use of different combinations of satellites for which to take a point measured based on the measured distances. This new function, however, for now only uses one random combination of satellites. We want to upgrade this function to choose every combination of $n+1$ satellites to make a measurement based on this method. The first satellite will be the \"reference point\" and the other $n$ satellites can be in any order which to take the vectors from the first satellite. To get the combinations from a certain list of the desired length, we need a new package called `itertools`. Again, of the measurements that we are able to take, we will take the center of mass of all measurements each with the same weight, but we will also allow for the use of uneven weights later."
   ]
  },
  {
   "cell_type": "code",
   "execution_count": 14,
   "metadata": {},
   "outputs": [],
   "source": [
    "def measure_point_from_satellites_n_dims_3(satellite_positions, satellite_distances):\n",
    "    shape = np.shape(satellite_positions)\n",
    "    if shape[0] > shape[1] and shape[0] == np.shape(satellite_distances)[0]:\n",
    "        dimension = shape[1]\n",
    "        number_of_satellites = shape[0]\n",
    "    else:\n",
    "        raise ValueError('Invalid dimensions of arguments. Number of satellites must be at least one more than given dimension')\n",
    "    \n",
    "    measurements = np.empty((0, dimension))\n",
    "    \n",
    "    for reference_satellite in range(number_of_satellites):\n",
    "        other_satellites = filter(lambda x: x != reference_satellite, range(number_of_satellites))\n",
    "        for selected_satellites in itertools.combinations(other_satellites, dimension):\n",
    "            selected_satellites = np.append(np.array([reference_satellite]), np.array(selected_satellites))\n",
    "\n",
    "            selected_satellite_positions = satellite_positions[selected_satellites]\n",
    "            selected_satellite_distances = satellite_distances[selected_satellites]\n",
    "            \n",
    "            try:\n",
    "                measured_point = measure_point_from_satellites_n_dims(selected_satellite_positions, selected_satellite_distances)\n",
    "                measurements = np.append(measurements, np.array([measured_point]), axis=0)\n",
    "            except ValueError: # Reject measurement when satellites are too collinear\n",
    "                pass\n",
    "\n",
    "    average_point = np.average(measurements, axis=0)\n",
    "\n",
    "    return average_point"
   ]
  },
  {
   "cell_type": "code",
   "execution_count": 15,
   "metadata": {},
   "outputs": [
    {
     "name": "stdout",
     "output_type": "stream",
     "text": [
      "Satellite positions:\n",
      "[[0 0]\n",
      " [0 1]\n",
      " [1 0]\n",
      " [1 1]]\n",
      "Measured distances:\n",
      "[0.90696058 0.31130943 1.11570146 0.73591795]\n",
      "Point to measure: [0.27706968 0.85329517]\n",
      "Measured point: [0.28328152 0.85721961]\n",
      "Error: 0.007347664525407193\n"
     ]
    }
   ],
   "source": [
    "# Specify the positions of the satellites\n",
    "satellite_positions = np.array([[0,0],[0,1],[1,0],[1,1]])\n",
    "\n",
    "# Pick a random point in the space to measure\n",
    "point_to_measure = np.random.rand(2)\n",
    "\n",
    "satellite_distances = measure_satellite_distances(satellite_positions, point_to_measure)\n",
    "\n",
    "print('Satellite positions:')\n",
    "print(satellite_positions)\n",
    "print('Measured distances:')\n",
    "print(satellite_distances)\n",
    "\n",
    "measured_point = measure_point_from_satellites_n_dims_3(satellite_positions, satellite_distances)\n",
    "\n",
    "error = np.sqrt(sum((measured_point - point_to_measure)**2))\n",
    "\n",
    "print('Point to measure: {}'.format(point_to_measure))\n",
    "print('Measured point: {}'.format(measured_point))\n",
    "print('Error: {}'.format(error))"
   ]
  },
  {
   "attachments": {},
   "cell_type": "markdown",
   "metadata": {},
   "source": [
    "Note that I've added a ValueError exception to handle when the selected satellites are too collinear/coplanar and therefore cannot be used to make a measurement. We shall run the experiment again by adding one more satellite such that there are three which are collinear. Will it work?"
   ]
  },
  {
   "cell_type": "code",
   "execution_count": 16,
   "metadata": {},
   "outputs": [
    {
     "name": "stdout",
     "output_type": "stream",
     "text": [
      "Satellite positions:\n",
      "[[0.  0. ]\n",
      " [0.  1. ]\n",
      " [1.  0. ]\n",
      " [1.  1. ]\n",
      " [0.5 0.5]]\n",
      "Measured distances:\n",
      "[0.34421364 0.82702708 0.76178205 1.06345828 0.35465184]\n",
      "Point to measure: [0.26667424 0.2259092 ]\n",
      "Measured point: [0.27279417 0.22096322]\n",
      "Error: 0.00786869027497993\n"
     ]
    }
   ],
   "source": [
    "# Specify the positions of the satellites\n",
    "satellite_positions = np.array([[0,0],[0,1],[1,0],[1,1],[0.5,0.5]])\n",
    "\n",
    "# Pick a random point in the space to measure\n",
    "point_to_measure = np.random.rand(2)\n",
    "\n",
    "satellite_distances = measure_satellite_distances(satellite_positions, point_to_measure)\n",
    "\n",
    "print('Satellite positions:')\n",
    "print(satellite_positions)\n",
    "print('Measured distances:')\n",
    "print(satellite_distances)\n",
    "\n",
    "measured_point = measure_point_from_satellites_n_dims_3(satellite_positions, satellite_distances)\n",
    "\n",
    "error = np.sqrt(sum((measured_point - point_to_measure)**2))\n",
    "\n",
    "print('Point to measure: {}'.format(point_to_measure))\n",
    "print('Measured point: {}'.format(measured_point))\n",
    "print('Error: {}'.format(error))"
   ]
  },
  {
   "attachments": {},
   "cell_type": "markdown",
   "metadata": {},
   "source": [
    "Now let's try the experiment in any number of dimensions. We will position the satellites in each corner of the unit cube. How accurately will the algorithm measure the point?"
   ]
  },
  {
   "cell_type": "code",
   "execution_count": 17,
   "metadata": {},
   "outputs": [
    {
     "name": "stdout",
     "output_type": "stream",
     "text": [
      "Satellite positions:\n",
      "[[0. 0. 0.]\n",
      " [0. 0. 1.]\n",
      " [0. 1. 0.]\n",
      " [0. 1. 1.]\n",
      " [1. 0. 0.]\n",
      " [1. 0. 1.]\n",
      " [1. 1. 0.]\n",
      " [1. 1. 1.]]\n",
      "Measured distances:\n",
      "[0.46782968 0.46782968 0.55541905 0.55541905 1.0014069  1.0014069\n",
      " 1.04519926 1.04519926]\n",
      "Point to measure: [0.10802441 0.45518714 0.54381708]\n",
      "Measured point: [0.09297922 0.44695671 0.5       ]\n",
      "Error: 0.04705352745164719\n"
     ]
    }
   ],
   "source": [
    "dimension = 3\n",
    "\n",
    "# Specify the positions of the satellites\n",
    "satellite_positions = np.empty((0,dimension))\n",
    "for corner in itertools.product(*[[0,1]]*dimension):\n",
    "    satellite_positions = np.append(satellite_positions, np.array([corner]), axis=0)\n",
    "\n",
    "#satellite_positions = np.array([[0,0],[0,1],[1,0],[1,1],[0.5,0.5]])\n",
    "\n",
    "# Pick a random point in the space to measure\n",
    "point_to_measure = np.random.rand(dimension)\n",
    "\n",
    "satellite_distances = measure_satellite_distances(satellite_positions, point_to_measure, error=0)\n",
    "\n",
    "print('Satellite positions:')\n",
    "print(satellite_positions)\n",
    "print('Measured distances:')\n",
    "print(satellite_distances)\n",
    "\n",
    "measured_point = measure_point_from_satellites_n_dims_3(satellite_positions, satellite_distances)\n",
    "\n",
    "error = np.sqrt(sum((measured_point - point_to_measure)**2))\n",
    "\n",
    "print('Point to measure: {}'.format(point_to_measure))\n",
    "print('Measured point: {}'.format(measured_point))\n",
    "print('Error: {}'.format(error))"
   ]
  },
  {
   "attachments": {},
   "cell_type": "markdown",
   "metadata": {},
   "source": [
    "It worked fine in 2 dimensions, but the error significantly increases after 3 dimensions. Is the algorithm not working well? It turns out I need to update the `measure_satellite_distances` function because it currently only works in 2 dimensions."
   ]
  },
  {
   "cell_type": "code",
   "execution_count": 18,
   "metadata": {},
   "outputs": [],
   "source": [
    "def measure_satellite_distances(satellite_positions, point, error=0.01):\n",
    "    no_of_satellites = np.shape(satellite_positions)[0]\n",
    "\n",
    "    # Measure the distance of each satellite to the point\n",
    "    satellite_distances = np.sqrt(np.sum((satellite_positions - point)**2, axis=1))\n",
    "\n",
    "    # Add some noise to the distance measurements, with a normal standard error of (default: 1%, 0.01)\n",
    "    satellite_distances += np.random.standard_normal(no_of_satellites) * satellite_distances * error\n",
    "\n",
    "    return satellite_distances"
   ]
  },
  {
   "cell_type": "code",
   "execution_count": 19,
   "metadata": {},
   "outputs": [
    {
     "name": "stdout",
     "output_type": "stream",
     "text": [
      "Satellite positions:\n",
      "[[0. 0. 0.]\n",
      " [0. 0. 1.]\n",
      " [0. 1. 0.]\n",
      " [0. 1. 1.]\n",
      " [1. 0. 0.]\n",
      " [1. 0. 1.]\n",
      " [1. 1. 0.]\n",
      " [1. 1. 1.]]\n",
      "Measured distances:\n",
      "[0.78876153 1.05297237 0.89944003 1.13171916 0.61693521 0.92333029\n",
      " 0.74780239 0.9855982 ]\n",
      "Point to measure: [0.6302201  0.41158561 0.26779536]\n",
      "Measured point: [0.63211451 0.41795632 0.26968411]\n",
      "Error: 0.0069095642671431505\n"
     ]
    }
   ],
   "source": [
    "dimension = 3\n",
    "\n",
    "# Specify the positions of the satellites\n",
    "satellite_positions = np.empty((0,dimension))\n",
    "for corner in itertools.product(*[[0,1]]*dimension):\n",
    "    satellite_positions = np.append(satellite_positions, np.array([corner]), axis=0)\n",
    "\n",
    "#satellite_positions = np.array([[0,0],[0,1],[1,0],[1,1],[0.5,0.5]])\n",
    "\n",
    "# Pick a random point in the space to measure\n",
    "point_to_measure = np.random.rand(dimension)\n",
    "\n",
    "satellite_distances = measure_satellite_distances(satellite_positions, point_to_measure)\n",
    "\n",
    "print('Satellite positions:')\n",
    "print(satellite_positions)\n",
    "print('Measured distances:')\n",
    "print(satellite_distances)\n",
    "\n",
    "measured_point = measure_point_from_satellites_n_dims_3(satellite_positions, satellite_distances)\n",
    "\n",
    "error = np.sqrt(sum((measured_point - point_to_measure)**2))\n",
    "\n",
    "print('Point to measure: {}'.format(point_to_measure))\n",
    "print('Measured point: {}'.format(measured_point))\n",
    "print('Error: {}'.format(error))"
   ]
  },
  {
   "attachments": {},
   "cell_type": "markdown",
   "metadata": {},
   "source": [
    "After correcting the function, this algorithm now works well in terms of having the error reasonably small. At least, that's the case in 3 dimensions. But after 4 dimensions..."
   ]
  },
  {
   "cell_type": "code",
   "execution_count": 20,
   "metadata": {},
   "outputs": [
    {
     "name": "stdout",
     "output_type": "stream",
     "text": [
      "Satellite positions:\n",
      "[[0. 0. 0. 0.]\n",
      " [0. 0. 0. 1.]\n",
      " [0. 0. 1. 0.]\n",
      " [0. 0. 1. 1.]\n",
      " [0. 1. 0. 0.]\n",
      " [0. 1. 0. 1.]\n",
      " [0. 1. 1. 0.]\n",
      " [0. 1. 1. 1.]\n",
      " [1. 0. 0. 0.]\n",
      " [1. 0. 0. 1.]\n",
      " [1. 0. 1. 0.]\n",
      " [1. 0. 1. 1.]\n",
      " [1. 1. 0. 0.]\n",
      " [1. 1. 0. 1.]\n",
      " [1. 1. 1. 0.]\n",
      " [1. 1. 1. 1.]]\n",
      "Measured distances:\n",
      "[0.98729354 0.98642955 0.58846316 0.57403361 1.25785549 1.25642038\n",
      " 0.9717992  0.94734295 1.32380257 1.3121566  1.04847612 1.04530799\n",
      " 1.51320722 1.53731647 1.30516334 1.28564009]\n",
      "Point to measure: [0.12529784 0.19563834 0.8124996  0.5098989 ]\n",
      "Measured point: [0.12191258 0.20485435 0.82312388 0.50521185]\n",
      "Error: 0.015206531553224763\n"
     ]
    }
   ],
   "source": [
    "dimension = 4\n",
    "\n",
    "# Specify the positions of the satellites\n",
    "satellite_positions = np.empty((0,dimension))\n",
    "for corner in itertools.product(*[[0,1]]*dimension):\n",
    "    satellite_positions = np.append(satellite_positions, np.array([corner]), axis=0)\n",
    "\n",
    "# Pick a random point in the space to measure\n",
    "point_to_measure = np.random.rand(dimension)\n",
    "\n",
    "satellite_distances = measure_satellite_distances(satellite_positions, point_to_measure)\n",
    "\n",
    "print('Satellite positions:')\n",
    "print(satellite_positions)\n",
    "print('Measured distances:')\n",
    "print(satellite_distances)\n",
    "\n",
    "measured_point = measure_point_from_satellites_n_dims_3(satellite_positions, satellite_distances)\n",
    "\n",
    "error = np.sqrt(sum((measured_point - point_to_measure)**2))\n",
    "\n",
    "print('Point to measure: {}'.format(point_to_measure))\n",
    "print('Measured point: {}'.format(measured_point))\n",
    "print('Error: {}'.format(error))"
   ]
  },
  {
   "attachments": {},
   "cell_type": "markdown",
   "metadata": {},
   "source": [
    "This algorithm takes too long, the last time it took 9.1 seconds to run. Imagine how much more complicated the algorithm would be as we increase the dimensions, considering how many satellites there are ($2^n$) and how many we need to choose ($n+1$). If we want an efficient algorithm, it suffices to select a limited number of random, valid satellite combinations (let's say 100) from which to take measurements using our plane-intersection algorithm. In case you're wondering how many different satellite combinations we need to go through, the next block shows that from 2 to 10 dimensions:"
   ]
  },
  {
   "cell_type": "code",
   "execution_count": 21,
   "metadata": {},
   "outputs": [
    {
     "name": "stdout",
     "output_type": "stream",
     "text": [
      "12\n",
      "168\n",
      "7280\n",
      "1006880\n",
      "449846208\n",
      "661680566400\n",
      "3277309562208000\n",
      "55873052552393556480\n",
      "3342658674986221456194560\n"
     ]
    }
   ],
   "source": [
    "import math\n",
    "for n in range(2,11):\n",
    "    print(n * math.comb(2**n, n))"
   ]
  },
  {
   "attachments": {},
   "cell_type": "markdown",
   "metadata": {},
   "source": [
    "We can then tweak our algorithm a little bit more, just by changing the method for which the satellites are selected:"
   ]
  },
  {
   "cell_type": "code",
   "execution_count": 22,
   "metadata": {},
   "outputs": [],
   "source": [
    "def measure_point_from_satellites_n_dims_4(satellite_positions, satellite_distances, number_of_measurements=100):\n",
    "    shape = np.shape(satellite_positions)\n",
    "    if shape[0] > shape[1] and shape[0] == np.shape(satellite_distances)[0]:\n",
    "        dimension = shape[1]\n",
    "        number_of_satellites = shape[0]\n",
    "    else:\n",
    "        raise ValueError('Invalid dimensions of arguments. Number of satellites must be at least one more than given dimension')\n",
    "    \n",
    "    measurements = np.empty((0, dimension))\n",
    "    \n",
    "    for i in range(number_of_measurements):\n",
    "        while True:\n",
    "            selected_satellites = np.random.choice(number_of_satellites, dimension+1, replace=False)\n",
    "            selected_satellite_positions = satellite_positions[selected_satellites]\n",
    "            selected_satellite_distances = satellite_distances[selected_satellites]\n",
    "            \n",
    "            try:\n",
    "                measured_point = measure_point_from_satellites_n_dims(selected_satellite_positions, selected_satellite_distances)\n",
    "                measurements = np.append(measurements, np.array([measured_point]), axis=0)\n",
    "                break\n",
    "            except ValueError: # Reject measurement when satellites are too collinear\n",
    "                continue\n",
    "\n",
    "    average_point = np.average(measurements, axis=0)\n",
    "\n",
    "    return average_point"
   ]
  },
  {
   "cell_type": "code",
   "execution_count": 23,
   "metadata": {},
   "outputs": [
    {
     "name": "stdout",
     "output_type": "stream",
     "text": [
      "Point to measure: [0.24781714 0.55551262 0.75375126 0.67387118 0.87223352]\n",
      "Measured point: [0.24781009 0.55545671 0.75173084 0.67817527 0.86215178]\n",
      "Error: 0.011146834692525354\n"
     ]
    }
   ],
   "source": [
    "dimension = 5\n",
    "\n",
    "# Specify the positions of the satellites\n",
    "satellite_positions = np.empty((0,dimension))\n",
    "for corner in itertools.product(*[[0,1]]*dimension):\n",
    "    satellite_positions = np.append(satellite_positions, np.array([corner]), axis=0)\n",
    "\n",
    "# Pick a random point in the space to measure\n",
    "point_to_measure = np.random.rand(dimension)\n",
    "\n",
    "satellite_distances = measure_satellite_distances(satellite_positions, point_to_measure)\n",
    "\n",
    "#print('Satellite positions:')\n",
    "#print(satellite_positions)\n",
    "#print('Measured distances:')\n",
    "#print(satellite_distances)\n",
    "\n",
    "measured_point = measure_point_from_satellites_n_dims_4(satellite_positions, satellite_distances)\n",
    "\n",
    "error = np.sqrt(sum((measured_point - point_to_measure)**2))\n",
    "\n",
    "print('Point to measure: {}'.format(point_to_measure))\n",
    "print('Measured point: {}'.format(measured_point))\n",
    "print('Error: {}'.format(error))"
   ]
  },
  {
   "attachments": {},
   "cell_type": "markdown",
   "metadata": {},
   "source": [
    "The algorithm still works well and efficiently, although of course the computation may take longer for larger dimensions due to complexity, as well as the rejected satellite combinations (due to collinearity) that are more likely to occur. Also, if you tweak the number of dimensions, notice how larger errors are more likely to occur in higher dimensions, likely due to the fact that we have many components that we are likely to get wrong, or less accurate. But even at very high dimensions, does it work when the point is measured *exactly* in terms of distance?"
   ]
  },
  {
   "cell_type": "code",
   "execution_count": 24,
   "metadata": {},
   "outputs": [
    {
     "name": "stdout",
     "output_type": "stream",
     "text": [
      "Point to measure: [0.94563746 0.6131106  0.40587226 0.89704173 0.43978707 0.65634165\n",
      " 0.47865346 0.26646929 0.38649088 0.24392487]\n",
      "Measured point: [0.94563746 0.6131106  0.40587226 0.89704173 0.43978707 0.65634165\n",
      " 0.47865346 0.26646929 0.38649088 0.24392487]\n",
      "Error: 2.0223513121860736e-15\n"
     ]
    }
   ],
   "source": [
    "dimension = 10\n",
    "\n",
    "# Specify the positions of the satellites\n",
    "satellite_positions = np.empty((0,dimension))\n",
    "for corner in itertools.product(*[[0,1]]*dimension):\n",
    "    satellite_positions = np.append(satellite_positions, np.array([corner]), axis=0)\n",
    "\n",
    "# Pick a random point in the space to measure\n",
    "point_to_measure = np.random.rand(dimension)\n",
    "\n",
    "satellite_distances = measure_satellite_distances(satellite_positions, point_to_measure, error=0)\n",
    "\n",
    "#print('Satellite positions:')\n",
    "#print(satellite_positions)\n",
    "#print('Measured distances:')\n",
    "#print(satellite_distances)\n",
    "\n",
    "measured_point = measure_point_from_satellites_n_dims_4(satellite_positions, satellite_distances)\n",
    "\n",
    "error = np.sqrt(sum((measured_point - point_to_measure)**2))\n",
    "\n",
    "print('Point to measure: {}'.format(point_to_measure))\n",
    "print('Measured point: {}'.format(measured_point))\n",
    "print('Error: {}'.format(error))"
   ]
  },
  {
   "attachments": {},
   "cell_type": "markdown",
   "metadata": {},
   "source": [
    "Turns out the answer is yes, in the sense that the algorithm measures the point accurately up to an error with order of magnitude $10^{-15}$. Although, in testing this, I can't seem to run it efficiently after 14 and 15 dimensions. This may probably be due to the fact that at these high dimensions, one is very likely to encounter satellite combinations which are coplanar, making finding valid combinations slow. We shall run another side experiment to investigate this, to find out at different dimensions how likely one is to choose coplanar satellites."
   ]
  },
  {
   "cell_type": "code",
   "execution_count": 25,
   "metadata": {},
   "outputs": [
    {
     "name": "stdout",
     "output_type": "stream",
     "text": [
      "2 dimensions: 0 coplanar combinations\n",
      "3 dimensions: 162 coplanar combinations\n",
      "4 dimensions: 296 coplanar combinations\n",
      "5 dimensions: 376 coplanar combinations\n",
      "6 dimensions: 418 coplanar combinations\n",
      "7 dimensions: 400 coplanar combinations\n",
      "8 dimensions: 365 coplanar combinations\n",
      "9 dimensions: 315 coplanar combinations\n",
      "10 dimensions: 232 coplanar combinations\n",
      "11 dimensions: 212 coplanar combinations\n",
      "12 dimensions: 149 coplanar combinations\n",
      "13 dimensions: 97 coplanar combinations\n",
      "14 dimensions: 69 coplanar combinations\n",
      "15 dimensions: 39 coplanar combinations\n"
     ]
    }
   ],
   "source": [
    "for dimension in range(2,16):\n",
    "    satellite_positions = np.empty((0,dimension))\n",
    "    for corner in itertools.product(*[[0,1]]*dimension):\n",
    "        satellite_positions = np.append(satellite_positions, np.array([corner]), axis=0)\n",
    "\n",
    "    number_of_satellites = np.shape(satellite_positions)[0]\n",
    "\n",
    "    coplanars = 0\n",
    "\n",
    "    for i in range(1000):\n",
    "        selected_satellites = np.random.choice(number_of_satellites, dimension+1, replace=False)\n",
    "        selected_satellite_positions = satellite_positions[selected_satellites]\n",
    "\n",
    "        A_matrix = np.empty((0,dimension))\n",
    "        \n",
    "        for i in range(dimension):\n",
    "            p1 = selected_satellite_positions[0]\n",
    "            p2 = selected_satellite_positions[i+1]\n",
    "\n",
    "            A_matrix = np.append(A_matrix, [p2-p1], axis=0)\n",
    "\n",
    "        A_unit = np.empty((0,dimension))\n",
    "        for row in A_matrix:\n",
    "            unit_row = row / np.sqrt(sum(row**2))\n",
    "            A_unit = np.append(A_unit, [unit_row], axis=0)\n",
    "\n",
    "        if np.absolute(la.det(A_unit)) <= 10**-12:\n",
    "            coplanars += 1\n",
    "\n",
    "    print('{} dimensions: {} coplanar combinations'.format(dimension, coplanars))"
   ]
  },
  {
   "attachments": {},
   "cell_type": "markdown",
   "metadata": {},
   "source": [
    "Turns out it's not the likelihood of choosing a coplanar combination that slows down the algorithm significantly after 14 dimensions, but it's actually the fact that we are working with $2^n$ satellites for $n$ dimensions as we choose the unit cube. In fact the above experiment shows that the likelihood of choosing a coplanar combination decreases as the number of dimensions increases."
   ]
  },
  {
   "attachments": {},
   "cell_type": "markdown",
   "metadata": {},
   "source": [
    "Now that we have successfully solved the problem of locating a point by measurement of distances assuming all measurements are precise, we shall try to experiment with finding the average error of a measurement within the unit cube when the satellite distances have a relative error. How do different relative errors affect the error of the point measurement? Intuitively speaking, this should increase, but we want to find a model which affects how this will change, i.e., quadratically? linearly?"
   ]
  },
  {
   "cell_type": "code",
   "execution_count": 28,
   "metadata": {},
   "outputs": [
    {
     "data": {
      "text/plain": [
       "[<matplotlib.lines.Line2D at 0x1efc0cd6fb0>]"
      ]
     },
     "execution_count": 28,
     "metadata": {},
     "output_type": "execute_result"
    },
    {
     "data": {
      "image/png": "[encoded data removed]",
      "text/plain": [
       "<Figure size 432x288 with 1 Axes>"
      ]
     },
     "metadata": {
      "needs_background": "light"
     },
     "output_type": "display_data"
    }
   ],
   "source": [
    "dimension = 2\n",
    "\n",
    "relative_error_values = [0.001, 0.002, 0.004, 0.006, 0.008, 0.01, 0.015, 0.02, 0.03, 0.04, 0.05, 0.06, 0.07, 0.08, 0.09, 0.1]\n",
    "measured_errors = []\n",
    "\n",
    "for error_value in relative_error_values:\n",
    "    total_error = 0\n",
    "    for i in range(100):\n",
    "        # Specify the positions of the satellites\n",
    "        satellite_positions = np.empty((0,dimension))\n",
    "        for corner in itertools.product(*[[0,1]]*dimension):\n",
    "            satellite_positions = np.append(satellite_positions, np.array([corner]), axis=0)\n",
    "\n",
    "        # Pick a random point in the space to measure\n",
    "        point_to_measure = np.random.rand(dimension)\n",
    "\n",
    "        satellite_distances = measure_satellite_distances(satellite_positions, point_to_measure, error=error_value)\n",
    "\n",
    "        measured_point = measure_point_from_satellites_n_dims_4(satellite_positions, satellite_distances)\n",
    "\n",
    "        error = np.sqrt(sum((measured_point - point_to_measure)**2))\n",
    "        total_error += error\n",
    "    average_error = total_error / 100\n",
    "    measured_errors.append(average_error)\n",
    "\n",
    "plt.plot(relative_error_values, measured_errors)"
   ]
  },
  {
   "attachments": {},
   "cell_type": "markdown",
   "metadata": {},
   "source": [
    "Above I've plotted the results of the experiment in two dimensions. In order to describe this result, when placing satellites in each corner of the unit cube, increasing the error has a linear effect on the average uncertainty of the point measured, when the point to measure is within the unit cube. What happens in 3D?"
   ]
  },
  {
   "cell_type": "code",
   "execution_count": 29,
   "metadata": {},
   "outputs": [
    {
     "data": {
      "text/plain": [
       "[<matplotlib.lines.Line2D at 0x1efc317c670>]"
      ]
     },
     "execution_count": 29,
     "metadata": {},
     "output_type": "execute_result"
    },
    {
     "data": {
      "image/png": "[encoded data removed]",
      "text/plain": [
       "<Figure size 432x288 with 1 Axes>"
      ]
     },
     "metadata": {
      "needs_background": "light"
     },
     "output_type": "display_data"
    }
   ],
   "source": [
    "dimension = 3\n",
    "\n",
    "relative_error_values = [0.001, 0.002, 0.004, 0.006, 0.008, 0.01, 0.015, 0.02, 0.03, 0.04, 0.05, 0.06, 0.07, 0.08, 0.09, 0.1]\n",
    "measured_errors = []\n",
    "\n",
    "for error_value in relative_error_values:\n",
    "    total_error = 0\n",
    "    for i in range(100):\n",
    "        # Specify the positions of the satellites\n",
    "        satellite_positions = np.empty((0,dimension))\n",
    "        for corner in itertools.product(*[[0,1]]*dimension):\n",
    "            satellite_positions = np.append(satellite_positions, np.array([corner]), axis=0)\n",
    "\n",
    "        # Pick a random point in the space to measure\n",
    "        point_to_measure = np.random.rand(dimension)\n",
    "\n",
    "        satellite_distances = measure_satellite_distances(satellite_positions, point_to_measure, error=error_value)\n",
    "\n",
    "        measured_point = measure_point_from_satellites_n_dims_4(satellite_positions, satellite_distances)\n",
    "\n",
    "        error = np.sqrt(sum((measured_point - point_to_measure)**2))\n",
    "        total_error += error\n",
    "    average_error = total_error / 100\n",
    "    measured_errors.append(average_error)\n",
    "\n",
    "plt.plot(relative_error_values, measured_errors)"
   ]
  },
  {
   "attachments": {},
   "cell_type": "markdown",
   "metadata": {},
   "source": [
    "Again, in 3D we get pretty much the same result in that the effect is linear."
   ]
  },
  {
   "attachments": {},
   "cell_type": "markdown",
   "metadata": {},
   "source": [
    "Now we shall move on to running an experiment in the real world, that is to simulate what this would look like when measured using GPS satellites and sensors on the Earth. In this experiment we shall assume that the Earth is a perfect sphere (it's not really, but more like an ellipsoid), and take measures of latitude, longitude, and altitude in place of Cartesian coordinates. To do this we shall first create functions to convert spherical long/lat/alt coordinates on Earth into Cartesian coordinates, and vice versa. The Cartesian coordinate system we shall use is in units of meters, and the x-axis will denote the direction of 0°N 0°E (known as [Null Island](https://en.wikipedia.org/wiki/Null_Island)), the y-axis will denote the direction of 0°N 180°E, and the z-axis will denote the direction of the North Pole. As for the radius of the earth, we shall use the value of the mean radius as obtained [here](https://en.wikipedia.org/wiki/Earth_radius), 6,371,008.7714 m."
   ]
  },
  {
   "cell_type": "code",
   "execution_count": 34,
   "metadata": {},
   "outputs": [],
   "source": [
    "earth_radius = 6371008.7714\n",
    "\n",
    "def convert_spherical_to_cartesian(lat, long, alt, earth_radius = earth_radius):\n",
    "    # latitude, longitude in degrees, and altitude in meters above the average earth radius\n",
    "    radius = earth_radius + alt\n",
    "    x = radius * np.cos(np.radians(lat)) * np.cos(np.radians(long))\n",
    "    y = radius * np.cos(np.radians(lat)) * np.sin(np.radians(long))\n",
    "    z = radius * np.sin(np.radians(lat))\n",
    "    return np.array([x,y,z])\n",
    "\n",
    "def convert_cartesian_to_spherical(x, y, z, earth_radius = earth_radius):\n",
    "    radius = np.sqrt(x**2 + y**2 + z**2)\n",
    "    alt = radius - earth_radius\n",
    "    lat = np.degrees(np.arcsin(z/radius))\n",
    "    long = np.degrees(np.arccos(x/radius/np.cos(np.radians(lat))))\n",
    "    return np.array([lat, long, alt])"
   ]
  },
  {
   "cell_type": "code",
   "execution_count": 38,
   "metadata": {},
   "outputs": [
    {
     "name": "stdout",
     "output_type": "stream",
     "text": [
      "[-2270823.28388494 -3480720.96658833  4828866.40653114]\n",
      "[ 49.28305 123.12044  20.     ]\n"
     ]
    }
   ],
   "source": [
    "# To test this works, we shall use the coordinates of Vancouver Art Gallery as an example, and assume the altitude is 20 m above sea level.\n",
    "print(convert_spherical_to_cartesian(49.28305, -123.12044, 20))\n",
    "print(convert_cartesian_to_spherical(-2270823.28388494, -3480720.96658833, 4828866.40653114))"
   ]
  },
  {
   "cell_type": "markdown",
   "metadata": {},
   "source": []
  }
 ],
 "metadata": {
  "kernelspec": {
   "display_name": "Python 3",
   "language": "python",
   "name": "python3"
  },
  "language_info": {
   "codemirror_mode": {
    "name": "ipython",
    "version": 3
   },
   "file_extension": ".py",
   "mimetype": "text/x-python",
   "name": "python",
   "nbconvert_exporter": "python",
   "pygments_lexer": "ipython3",
   "version": "3.10.4"
  },
  "orig_nbformat": 4,
  "vscode": {
   "interpreter": {
    "hash": "c4c9e799cb8937eb65ba371dfde8df5a4a0f87b4ef2f772da2a516c4cb7cc0c4"
   }
  }
 },
 "nbformat": 4,
 "nbformat_minor": 2
}
